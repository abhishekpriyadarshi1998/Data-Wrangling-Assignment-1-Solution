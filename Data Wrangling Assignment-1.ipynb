{
 "cells": [
  {
   "cell_type": "code",
   "execution_count": 1,
   "id": "8df3fde6",
   "metadata": {},
   "outputs": [
    {
     "name": "stdout",
     "output_type": "stream",
     "text": [
      "[0. 0. 0. 0. 1. 0. 0. 0. 0. 0.]\n"
     ]
    }
   ],
   "source": [
    "#1.Create a null vector of size 10 but the fifth value which is 1.\n",
    "\n",
    "import numpy as np \n",
    "\n",
    "null_vector = np.zeros(10) \n",
    "null_vector[4] = 1 \n",
    "print(null_vector)"
   ]
  },
  {
   "cell_type": "code",
   "execution_count": 2,
   "id": "ea216a14",
   "metadata": {},
   "outputs": [
    {
     "name": "stdout",
     "output_type": "stream",
     "text": [
      "[10 11 12 13 14 15 16 17 18 19 20 21 22 23 24 25 26 27 28 29 30 31 32 33\n",
      " 34 35 36 37 38 39 40 41 42 43 44 45 46 47 48 49]\n"
     ]
    }
   ],
   "source": [
    "#2.Create a vector with values ranging from 10 to 49.\n",
    "import numpy as np\n",
    "\n",
    "vector = np.arange(10,50)\n",
    "print(vector)"
   ]
  },
  {
   "cell_type": "code",
   "execution_count": 3,
   "id": "bb10497d",
   "metadata": {},
   "outputs": [
    {
     "name": "stdout",
     "output_type": "stream",
     "text": [
      "[[0 1 2]\n",
      " [3 4 5]\n",
      " [6 7 8]]\n"
     ]
    }
   ],
   "source": [
    "#3. Create a 3x3 matrix with values ranging from 0 to 8\n",
    "import numpy as np\n",
    "\n",
    "matrix = np.array([[0,1,2],[3,4,5],[6,7,8]])\n",
    "\n",
    "print(matrix)"
   ]
  },
  {
   "cell_type": "code",
   "execution_count": 4,
   "id": "6c49b5e7",
   "metadata": {},
   "outputs": [
    {
     "name": "stdout",
     "output_type": "stream",
     "text": [
      "Non-zero elements indices:\n",
      "(array([0, 1, 4], dtype=int64),)\n"
     ]
    }
   ],
   "source": [
    "#4. Find indices of non-zero elements from [1,2,0,0,4,0]\n",
    "import numpy as np \n",
    "\n",
    "list1 = [1,2,0,0,4,0] \n",
    "\n",
    "print(\"Non-zero elements indices:\") \n",
    "\n",
    "result = np.nonzero(list1) \n",
    "\n",
    "print(result)"
   ]
  },
  {
   "cell_type": "code",
   "execution_count": 5,
   "id": "89bb47ad",
   "metadata": {},
   "outputs": [
    {
     "name": "stdout",
     "output_type": "stream",
     "text": [
      "The 10x10 array of random values is:\n",
      "\n",
      "[[37 85 75 61 82 62 34 89  1  5]\n",
      " [16  3 72 68 90 49 31 78  2 11]\n",
      " [98 19 88 19 15  1  2 18 62 24]\n",
      " [75 99 64  3 27 54 53 28 34 54]\n",
      " [78 62 35 10  2 47 38 35 27 54]\n",
      " [16 59  7 33 93  1 43  5 51  9]\n",
      " [37 62 46 75 27 56 50 75  9 65]\n",
      " [16 46 75 30 32 84 12 66 23  9]\n",
      " [58 87 97 88 57 96 73 20 41 54]\n",
      " [45 23 60 41 95 95 21 79 51 17]]\n",
      "\n",
      "The minimum value in the array is: 1\n",
      "The maximum value in the array is: 99\n"
     ]
    }
   ],
   "source": [
    "#5. Create a 10x10 array with random values and find the minimum and maximum values.\n",
    "\n",
    "import numpy as np \n",
    "\n",
    "arr = np.random.randint(low=1, high=100, size=(10, 10)) \n",
    "\n",
    "print(\"The 10x10 array of random values is:\\n\") \n",
    "print(arr) \n",
    "\n",
    "print(\"\\nThe minimum value in the array is:\", np.min(arr)) \n",
    "print(\"The maximum value in the array is:\", np.max(arr))"
   ]
  },
  {
   "cell_type": "code",
   "execution_count": 6,
   "id": "215a7a7c",
   "metadata": {},
   "outputs": [
    {
     "name": "stdout",
     "output_type": "stream",
     "text": [
      "Random vector is : [30 16 43 23 95 83  2 17 10 87 76 24 68 79 61 50 50 44 53  7 23 18 36 34\n",
      " 16 82 48 62 48 57]\n",
      "Mean value of the vector is : 44.733333333333334\n"
     ]
    }
   ],
   "source": [
    "#6. Create a random vector of size 30 and find the mean value.\n",
    "\n",
    "\n",
    "import numpy as np\n",
    "\n",
    "rand_vector = np.random.randint(1,100,30)\n",
    "\n",
    "mean_value = np.mean(rand_vector)\n",
    "\n",
    "print(\"Random vector is :\", rand_vector)\n",
    "print(\"Mean value of the vector is :\", mean_value)"
   ]
  },
  {
   "cell_type": "code",
   "execution_count": null,
   "id": "e2975fd4",
   "metadata": {},
   "outputs": [],
   "source": []
  }
 ],
 "metadata": {
  "kernelspec": {
   "display_name": "Python 3 (ipykernel)",
   "language": "python",
   "name": "python3"
  },
  "language_info": {
   "codemirror_mode": {
    "name": "ipython",
    "version": 3
   },
   "file_extension": ".py",
   "mimetype": "text/x-python",
   "name": "python",
   "nbconvert_exporter": "python",
   "pygments_lexer": "ipython3",
   "version": "3.9.12"
  }
 },
 "nbformat": 4,
 "nbformat_minor": 5
}
